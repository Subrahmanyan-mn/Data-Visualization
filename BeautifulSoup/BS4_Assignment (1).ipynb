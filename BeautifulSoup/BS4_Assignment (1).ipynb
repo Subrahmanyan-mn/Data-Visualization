{
  "nbformat": 4,
  "nbformat_minor": 0,
  "metadata": {
    "colab": {
      "name": "BS4_Assignment.ipynb",
      "provenance": [],
      "collapsed_sections": []
    },
    "kernelspec": {
      "display_name": "Python 3",
      "name": "python3"
    }
  },
  "cells": [
    {
      "cell_type": "code",
      "metadata": {
        "colab": {
          "base_uri": "https://localhost:8080/"
        },
        "id": "o5p11UorUOOo",
        "outputId": "ed4f69b1-f67a-4243-a989-de79f3ad5d34"
      },
      "source": [
        "pip install fake_useragent #installing FakeUser Agent to import UserAgent"
      ],
      "execution_count": 31,
      "outputs": [
        {
          "output_type": "stream",
          "text": [
            "Requirement already satisfied: fake_useragent in /usr/local/lib/python3.6/dist-packages (0.1.11)\n"
          ],
          "name": "stdout"
        }
      ]
    },
    {
      "cell_type": "code",
      "metadata": {
        "id": "0lSCrF6NUJD-"
      },
      "source": [
        "# Name: Subrahmanyan M N\n",
        "# RegNo: 201046007\n",
        "# Branch: BigData And Data Analytics\n",
        "# The webpage i'm parsing in this script is of MSOIS to extract Faculty Information using BeautifulSoup\n",
        "\n",
        "\n",
        "import requests  #requests module is used to fetch the HTML code from a webpage\n",
        "from bs4 import BeautifulSoup #beautiful soup is a module used to parse HTML code using its various functions\n",
        "import re  #re is a module used to implement various functionalities of regualar expressions\n",
        "from fake_useragent import UserAgent #importing Fake UserAgent\n",
        "\n",
        "\n",
        "url = 'https://manipal.edu/sois/department-faculty.html'\n",
        "\n",
        "ua = UserAgent()\n",
        "headers = {\"user-agent\" : ua.chrome}\n",
        "r = requests.get(url) #The HTML of the website formed by the url is retrieved by the get function and stored in r\n",
        "data = r.text\n",
        "\n",
        "#using the python library BeautifulSoup to parse the HTML code, by creating a soup of the contents of the retrieved HTML codes of the webpage\n",
        "soup = BeautifulSoup(data, 'html.parser') \n",
        "\n",
        "data = soup.findAll(\"a\",{\"class\":\"members-wp\"}) #retrieving all the HTML lines of code having the <a> tag of Class \"members-wp\"\n",
        "#print(data)\n",
        "#type (data)\n",
        "\n"
      ],
      "execution_count": 37,
      "outputs": []
    },
    {
      "cell_type": "code",
      "metadata": {
        "id": "tHs_A8lY0Y99"
      },
      "source": [
        "names=[]\n",
        "designation=[]\n",
        "email=[]\n",
        "\n",
        "for i in range(len(list(data))):\n",
        "    x=data[i].find_all(\"h4\")   #Extracting all the h4 tags which contains faculty names.\n",
        "    y=data[i].find_all(\"p\")    #Extracting all the p tags which contains faculty email and designation.\n",
        "    #print(type(x),x[0].text)\n",
        "    names.append(x[0].text)\n",
        "    designation.append(y[0].text)\n",
        "    email.append(y[1].text)\n",
        "#print(names1)\n",
        "#print(designation1)\n",
        "#print(emailid1)"
      ],
      "execution_count": 38,
      "outputs": []
    },
    {
      "cell_type": "code",
      "metadata": {
        "id": "2hMzTmx10Y99"
      },
      "source": [
        "import pandas as pd  #Importing Pandas library to use dataframe\n",
        "df=pd.DataFrame()    #Creating Data Frame.\n",
        "df['Name']=names\n",
        "df['Designation']=designation\n",
        "df['Email-id']=email\n"
      ],
      "execution_count": 39,
      "outputs": []
    },
    {
      "cell_type": "code",
      "metadata": {
        "colab": {
          "base_uri": "https://localhost:8080/",
          "height": 548
        },
        "id": "JohAJNK40Y99",
        "outputId": "e227e542-a87a-42a6-8aaa-6708695bf7e5"
      },
      "source": [
        "#Formatting style of DataFrame\n",
        "dfStyler = df.style.set_properties(**{'text-align': 'left'})\n",
        "dfStyler.set_table_styles([dict(selector='th', props=[('text-align', 'left')])])"
      ],
      "execution_count": 42,
      "outputs": [
        {
          "output_type": "execute_result",
          "data": {
            "text/html": [
              "<style  type=\"text/css\" >\n",
              "    #T_b6e47c54_30b7_11eb_84e4_0242ac1c0002 th {\n",
              "          text-align: left;\n",
              "    }#T_b6e47c54_30b7_11eb_84e4_0242ac1c0002row0_col0,#T_b6e47c54_30b7_11eb_84e4_0242ac1c0002row0_col1,#T_b6e47c54_30b7_11eb_84e4_0242ac1c0002row0_col2,#T_b6e47c54_30b7_11eb_84e4_0242ac1c0002row1_col0,#T_b6e47c54_30b7_11eb_84e4_0242ac1c0002row1_col1,#T_b6e47c54_30b7_11eb_84e4_0242ac1c0002row1_col2,#T_b6e47c54_30b7_11eb_84e4_0242ac1c0002row2_col0,#T_b6e47c54_30b7_11eb_84e4_0242ac1c0002row2_col1,#T_b6e47c54_30b7_11eb_84e4_0242ac1c0002row2_col2,#T_b6e47c54_30b7_11eb_84e4_0242ac1c0002row3_col0,#T_b6e47c54_30b7_11eb_84e4_0242ac1c0002row3_col1,#T_b6e47c54_30b7_11eb_84e4_0242ac1c0002row3_col2,#T_b6e47c54_30b7_11eb_84e4_0242ac1c0002row4_col0,#T_b6e47c54_30b7_11eb_84e4_0242ac1c0002row4_col1,#T_b6e47c54_30b7_11eb_84e4_0242ac1c0002row4_col2,#T_b6e47c54_30b7_11eb_84e4_0242ac1c0002row5_col0,#T_b6e47c54_30b7_11eb_84e4_0242ac1c0002row5_col1,#T_b6e47c54_30b7_11eb_84e4_0242ac1c0002row5_col2,#T_b6e47c54_30b7_11eb_84e4_0242ac1c0002row6_col0,#T_b6e47c54_30b7_11eb_84e4_0242ac1c0002row6_col1,#T_b6e47c54_30b7_11eb_84e4_0242ac1c0002row6_col2,#T_b6e47c54_30b7_11eb_84e4_0242ac1c0002row7_col0,#T_b6e47c54_30b7_11eb_84e4_0242ac1c0002row7_col1,#T_b6e47c54_30b7_11eb_84e4_0242ac1c0002row7_col2,#T_b6e47c54_30b7_11eb_84e4_0242ac1c0002row8_col0,#T_b6e47c54_30b7_11eb_84e4_0242ac1c0002row8_col1,#T_b6e47c54_30b7_11eb_84e4_0242ac1c0002row8_col2,#T_b6e47c54_30b7_11eb_84e4_0242ac1c0002row9_col0,#T_b6e47c54_30b7_11eb_84e4_0242ac1c0002row9_col1,#T_b6e47c54_30b7_11eb_84e4_0242ac1c0002row9_col2,#T_b6e47c54_30b7_11eb_84e4_0242ac1c0002row10_col0,#T_b6e47c54_30b7_11eb_84e4_0242ac1c0002row10_col1,#T_b6e47c54_30b7_11eb_84e4_0242ac1c0002row10_col2,#T_b6e47c54_30b7_11eb_84e4_0242ac1c0002row11_col0,#T_b6e47c54_30b7_11eb_84e4_0242ac1c0002row11_col1,#T_b6e47c54_30b7_11eb_84e4_0242ac1c0002row11_col2,#T_b6e47c54_30b7_11eb_84e4_0242ac1c0002row12_col0,#T_b6e47c54_30b7_11eb_84e4_0242ac1c0002row12_col1,#T_b6e47c54_30b7_11eb_84e4_0242ac1c0002row12_col2,#T_b6e47c54_30b7_11eb_84e4_0242ac1c0002row13_col0,#T_b6e47c54_30b7_11eb_84e4_0242ac1c0002row13_col1,#T_b6e47c54_30b7_11eb_84e4_0242ac1c0002row13_col2,#T_b6e47c54_30b7_11eb_84e4_0242ac1c0002row14_col0,#T_b6e47c54_30b7_11eb_84e4_0242ac1c0002row14_col1,#T_b6e47c54_30b7_11eb_84e4_0242ac1c0002row14_col2,#T_b6e47c54_30b7_11eb_84e4_0242ac1c0002row15_col0,#T_b6e47c54_30b7_11eb_84e4_0242ac1c0002row15_col1,#T_b6e47c54_30b7_11eb_84e4_0242ac1c0002row15_col2,#T_b6e47c54_30b7_11eb_84e4_0242ac1c0002row16_col0,#T_b6e47c54_30b7_11eb_84e4_0242ac1c0002row16_col1,#T_b6e47c54_30b7_11eb_84e4_0242ac1c0002row16_col2,#T_b6e47c54_30b7_11eb_84e4_0242ac1c0002row17_col0,#T_b6e47c54_30b7_11eb_84e4_0242ac1c0002row17_col1,#T_b6e47c54_30b7_11eb_84e4_0242ac1c0002row17_col2,#T_b6e47c54_30b7_11eb_84e4_0242ac1c0002row18_col0,#T_b6e47c54_30b7_11eb_84e4_0242ac1c0002row18_col1,#T_b6e47c54_30b7_11eb_84e4_0242ac1c0002row18_col2,#T_b6e47c54_30b7_11eb_84e4_0242ac1c0002row19_col0,#T_b6e47c54_30b7_11eb_84e4_0242ac1c0002row19_col1,#T_b6e47c54_30b7_11eb_84e4_0242ac1c0002row19_col2,#T_b6e47c54_30b7_11eb_84e4_0242ac1c0002row20_col0,#T_b6e47c54_30b7_11eb_84e4_0242ac1c0002row20_col1,#T_b6e47c54_30b7_11eb_84e4_0242ac1c0002row20_col2,#T_b6e47c54_30b7_11eb_84e4_0242ac1c0002row21_col0,#T_b6e47c54_30b7_11eb_84e4_0242ac1c0002row21_col1,#T_b6e47c54_30b7_11eb_84e4_0242ac1c0002row21_col2,#T_b6e47c54_30b7_11eb_84e4_0242ac1c0002row22_col0,#T_b6e47c54_30b7_11eb_84e4_0242ac1c0002row22_col1,#T_b6e47c54_30b7_11eb_84e4_0242ac1c0002row22_col2,#T_b6e47c54_30b7_11eb_84e4_0242ac1c0002row23_col0,#T_b6e47c54_30b7_11eb_84e4_0242ac1c0002row23_col1,#T_b6e47c54_30b7_11eb_84e4_0242ac1c0002row23_col2,#T_b6e47c54_30b7_11eb_84e4_0242ac1c0002row24_col0,#T_b6e47c54_30b7_11eb_84e4_0242ac1c0002row24_col1,#T_b6e47c54_30b7_11eb_84e4_0242ac1c0002row24_col2,#T_b6e47c54_30b7_11eb_84e4_0242ac1c0002row25_col0,#T_b6e47c54_30b7_11eb_84e4_0242ac1c0002row25_col1,#T_b6e47c54_30b7_11eb_84e4_0242ac1c0002row25_col2{\n",
              "            text-align:  left;\n",
              "        }</style><table id=\"T_b6e47c54_30b7_11eb_84e4_0242ac1c0002\" ><thead>    <tr>        <th class=\"blank level0\" ></th>        <th class=\"col_heading level0 col0\" >Name</th>        <th class=\"col_heading level0 col1\" >Designation</th>        <th class=\"col_heading level0 col2\" >Email-id</th>    </tr></thead><tbody>\n",
              "                <tr>\n",
              "                        <th id=\"T_b6e47c54_30b7_11eb_84e4_0242ac1c0002level0_row0\" class=\"row_heading level0 row0\" >0</th>\n",
              "                        <td id=\"T_b6e47c54_30b7_11eb_84e4_0242ac1c0002row0_col0\" class=\"data row0 col0\" >Arockiaraj S  </td>\n",
              "                        <td id=\"T_b6e47c54_30b7_11eb_84e4_0242ac1c0002row0_col1\" class=\"data row0 col1\" >Assistant Professor – Selection Grade</td>\n",
              "                        <td id=\"T_b6e47c54_30b7_11eb_84e4_0242ac1c0002row0_col2\" class=\"data row0 col2\" >araj.s@manipal.edu</td>\n",
              "            </tr>\n",
              "            <tr>\n",
              "                        <th id=\"T_b6e47c54_30b7_11eb_84e4_0242ac1c0002level0_row1\" class=\"row_heading level0 row1\" >1</th>\n",
              "                        <td id=\"T_b6e47c54_30b7_11eb_84e4_0242ac1c0002row1_col0\" class=\"data row1 col0\" >Dr B Dinesh Rao</td>\n",
              "                        <td id=\"T_b6e47c54_30b7_11eb_84e4_0242ac1c0002row1_col1\" class=\"data row1 col1\" >Professor</td>\n",
              "                        <td id=\"T_b6e47c54_30b7_11eb_84e4_0242ac1c0002row1_col2\" class=\"data row1 col2\" >dinesh.rao@manipal.edu</td>\n",
              "            </tr>\n",
              "            <tr>\n",
              "                        <th id=\"T_b6e47c54_30b7_11eb_84e4_0242ac1c0002level0_row2\" class=\"row_heading level0 row2\" >2</th>\n",
              "                        <td id=\"T_b6e47c54_30b7_11eb_84e4_0242ac1c0002row2_col0\" class=\"data row2 col0\" >Balaji B</td>\n",
              "                        <td id=\"T_b6e47c54_30b7_11eb_84e4_0242ac1c0002row2_col1\" class=\"data row2 col1\" >Assistant Professor - Senior Scale</td>\n",
              "                        <td id=\"T_b6e47c54_30b7_11eb_84e4_0242ac1c0002row2_col2\" class=\"data row2 col2\" >balaji.b@manipal.edu</td>\n",
              "            </tr>\n",
              "            <tr>\n",
              "                        <th id=\"T_b6e47c54_30b7_11eb_84e4_0242ac1c0002level0_row3\" class=\"row_heading level0 row3\" >3</th>\n",
              "                        <td id=\"T_b6e47c54_30b7_11eb_84e4_0242ac1c0002row3_col0\" class=\"data row3 col0\" >Chaitanya C V S</td>\n",
              "                        <td id=\"T_b6e47c54_30b7_11eb_84e4_0242ac1c0002row3_col1\" class=\"data row3 col1\" >Assistant Professor - Senior Scale</td>\n",
              "                        <td id=\"T_b6e47c54_30b7_11eb_84e4_0242ac1c0002row3_col2\" class=\"data row3 col2\" >chaitanya.cvs@manipal.edu</td>\n",
              "            </tr>\n",
              "            <tr>\n",
              "                        <th id=\"T_b6e47c54_30b7_11eb_84e4_0242ac1c0002level0_row4\" class=\"row_heading level0 row4\" >4</th>\n",
              "                        <td id=\"T_b6e47c54_30b7_11eb_84e4_0242ac1c0002row4_col0\" class=\"data row4 col0\" >Dr Darryl Jeethesh D’Souza</td>\n",
              "                        <td id=\"T_b6e47c54_30b7_11eb_84e4_0242ac1c0002row4_col1\" class=\"data row4 col1\" >Assistant Professor - Senior Scale</td>\n",
              "                        <td id=\"T_b6e47c54_30b7_11eb_84e4_0242ac1c0002row4_col2\" class=\"data row4 col2\" >darryl.j@manipal.edu</td>\n",
              "            </tr>\n",
              "            <tr>\n",
              "                        <th id=\"T_b6e47c54_30b7_11eb_84e4_0242ac1c0002level0_row5\" class=\"row_heading level0 row5\" >5</th>\n",
              "                        <td id=\"T_b6e47c54_30b7_11eb_84e4_0242ac1c0002row5_col0\" class=\"data row5 col0\" >Deepak Rao B</td>\n",
              "                        <td id=\"T_b6e47c54_30b7_11eb_84e4_0242ac1c0002row5_col1\" class=\"data row5 col1\" >Assistant Professor – Selection Grade</td>\n",
              "                        <td id=\"T_b6e47c54_30b7_11eb_84e4_0242ac1c0002row5_col2\" class=\"data row5 col2\" >deepak.rao@manipal.edu</td>\n",
              "            </tr>\n",
              "            <tr>\n",
              "                        <th id=\"T_b6e47c54_30b7_11eb_84e4_0242ac1c0002level0_row6\" class=\"row_heading level0 row6\" >6</th>\n",
              "                        <td id=\"T_b6e47c54_30b7_11eb_84e4_0242ac1c0002row6_col0\" class=\"data row6 col0\" >Dr Harishchandra Hebbar</td>\n",
              "                        <td id=\"T_b6e47c54_30b7_11eb_84e4_0242ac1c0002row6_col1\" class=\"data row6 col1\" >Professor</td>\n",
              "                        <td id=\"T_b6e47c54_30b7_11eb_84e4_0242ac1c0002row6_col2\" class=\"data row6 col2\" >harish.hebbar@manipal.edu</td>\n",
              "            </tr>\n",
              "            <tr>\n",
              "                        <th id=\"T_b6e47c54_30b7_11eb_84e4_0242ac1c0002level0_row7\" class=\"row_heading level0 row7\" >7</th>\n",
              "                        <td id=\"T_b6e47c54_30b7_11eb_84e4_0242ac1c0002row7_col0\" class=\"data row7 col0\" >Dr. Keerthana I</td>\n",
              "                        <td id=\"T_b6e47c54_30b7_11eb_84e4_0242ac1c0002row7_col1\" class=\"data row7 col1\" >Professor</td>\n",
              "                        <td id=\"T_b6e47c54_30b7_11eb_84e4_0242ac1c0002row7_col2\" class=\"data row7 col2\" >keerthana.prasad@manipal.edu</td>\n",
              "            </tr>\n",
              "            <tr>\n",
              "                        <th id=\"T_b6e47c54_30b7_11eb_84e4_0242ac1c0002level0_row8\" class=\"row_heading level0 row8\" >8</th>\n",
              "                        <td id=\"T_b6e47c54_30b7_11eb_84e4_0242ac1c0002row8_col0\" class=\"data row8 col0\" >Keerthana B</td>\n",
              "                        <td id=\"T_b6e47c54_30b7_11eb_84e4_0242ac1c0002row8_col1\" class=\"data row8 col1\" >Assistant Professor - Senior Scale</td>\n",
              "                        <td id=\"T_b6e47c54_30b7_11eb_84e4_0242ac1c0002row8_col2\" class=\"data row8 col2\" >keerthana.s@manipal.edu</td>\n",
              "            </tr>\n",
              "            <tr>\n",
              "                        <th id=\"T_b6e47c54_30b7_11eb_84e4_0242ac1c0002level0_row9\" class=\"row_heading level0 row9\" >9</th>\n",
              "                        <td id=\"T_b6e47c54_30b7_11eb_84e4_0242ac1c0002row9_col0\" class=\"data row9 col0\" >Madhushankara M</td>\n",
              "                        <td id=\"T_b6e47c54_30b7_11eb_84e4_0242ac1c0002row9_col1\" class=\"data row9 col1\" >Assistant Professor - Senior Scale</td>\n",
              "                        <td id=\"T_b6e47c54_30b7_11eb_84e4_0242ac1c0002row9_col2\" class=\"data row9 col2\" >madhushankar.m@manipal.edu</td>\n",
              "            </tr>\n",
              "            <tr>\n",
              "                        <th id=\"T_b6e47c54_30b7_11eb_84e4_0242ac1c0002level0_row10\" class=\"row_heading level0 row10\" >10</th>\n",
              "                        <td id=\"T_b6e47c54_30b7_11eb_84e4_0242ac1c0002row10_col0\" class=\"data row10 col0\" >Dr Mohan Kumar Jayasubramanian</td>\n",
              "                        <td id=\"T_b6e47c54_30b7_11eb_84e4_0242ac1c0002row10_col1\" class=\"data row10 col1\" >Assistant Professor - Selection Grade</td>\n",
              "                        <td id=\"T_b6e47c54_30b7_11eb_84e4_0242ac1c0002row10_col2\" class=\"data row10 col2\" >mohan.js@manipal.edu</td>\n",
              "            </tr>\n",
              "            <tr>\n",
              "                        <th id=\"T_b6e47c54_30b7_11eb_84e4_0242ac1c0002level0_row11\" class=\"row_heading level0 row11\" >11</th>\n",
              "                        <td id=\"T_b6e47c54_30b7_11eb_84e4_0242ac1c0002row11_col0\" class=\"data row11 col0\" >Nandish S </td>\n",
              "                        <td id=\"T_b6e47c54_30b7_11eb_84e4_0242ac1c0002row11_col1\" class=\"data row11 col1\" >Assistant Professor  - Senior Scale</td>\n",
              "                        <td id=\"T_b6e47c54_30b7_11eb_84e4_0242ac1c0002row11_col2\" class=\"data row11 col2\" >nandish.s@manipal.edu</td>\n",
              "            </tr>\n",
              "            <tr>\n",
              "                        <th id=\"T_b6e47c54_30b7_11eb_84e4_0242ac1c0002level0_row12\" class=\"row_heading level0 row12\" >12</th>\n",
              "                        <td id=\"T_b6e47c54_30b7_11eb_84e4_0242ac1c0002row12_col0\" class=\"data row12 col0\" >Prashanth Kumar Shetty</td>\n",
              "                        <td id=\"T_b6e47c54_30b7_11eb_84e4_0242ac1c0002row12_col1\" class=\"data row12 col1\" >Associate Professor – Senior Scale</td>\n",
              "                        <td id=\"T_b6e47c54_30b7_11eb_84e4_0242ac1c0002row12_col2\" class=\"data row12 col2\" >pk.shetty@manipal.edu</td>\n",
              "            </tr>\n",
              "            <tr>\n",
              "                        <th id=\"T_b6e47c54_30b7_11eb_84e4_0242ac1c0002level0_row13\" class=\"row_heading level0 row13\" >13</th>\n",
              "                        <td id=\"T_b6e47c54_30b7_11eb_84e4_0242ac1c0002row13_col0\" class=\"data row13 col0\" >Mr Prathviraj N</td>\n",
              "                        <td id=\"T_b6e47c54_30b7_11eb_84e4_0242ac1c0002row13_col1\" class=\"data row13 col1\" >Assistant Professor - Senior Scale</td>\n",
              "                        <td id=\"T_b6e47c54_30b7_11eb_84e4_0242ac1c0002row13_col2\" class=\"data row13 col2\" >prathviraj.n@manipal.edu</td>\n",
              "            </tr>\n",
              "            <tr>\n",
              "                        <th id=\"T_b6e47c54_30b7_11eb_84e4_0242ac1c0002level0_row14\" class=\"row_heading level0 row14\" >14</th>\n",
              "                        <td id=\"T_b6e47c54_30b7_11eb_84e4_0242ac1c0002row14_col0\" class=\"data row14 col0\" >Dr Raghavendra Prabhu</td>\n",
              "                        <td id=\"T_b6e47c54_30b7_11eb_84e4_0242ac1c0002row14_col1\" class=\"data row14 col1\" >Assistant Professor - Senior Scale</td>\n",
              "                        <td id=\"T_b6e47c54_30b7_11eb_84e4_0242ac1c0002row14_col2\" class=\"data row14 col2\" >raghavendra.prabhu@manipal.edu</td>\n",
              "            </tr>\n",
              "            <tr>\n",
              "                        <th id=\"T_b6e47c54_30b7_11eb_84e4_0242ac1c0002level0_row15\" class=\"row_heading level0 row15\" >15</th>\n",
              "                        <td id=\"T_b6e47c54_30b7_11eb_84e4_0242ac1c0002row15_col0\" class=\"data row15 col0\" >Mr Raghudathesh G P</td>\n",
              "                        <td id=\"T_b6e47c54_30b7_11eb_84e4_0242ac1c0002row15_col1\" class=\"data row15 col1\" >Assistant Professor</td>\n",
              "                        <td id=\"T_b6e47c54_30b7_11eb_84e4_0242ac1c0002row15_col2\" class=\"data row15 col2\" >raghudathesh.gp@manipal.edu</td>\n",
              "            </tr>\n",
              "            <tr>\n",
              "                        <th id=\"T_b6e47c54_30b7_11eb_84e4_0242ac1c0002level0_row16\" class=\"row_heading level0 row16\" >16</th>\n",
              "                        <td id=\"T_b6e47c54_30b7_11eb_84e4_0242ac1c0002row16_col0\" class=\"data row16 col0\" >Prof. Ramashesha C S</td>\n",
              "                        <td id=\"T_b6e47c54_30b7_11eb_84e4_0242ac1c0002row16_col1\" class=\"data row16 col1\" >I/C Director </td>\n",
              "                        <td id=\"T_b6e47c54_30b7_11eb_84e4_0242ac1c0002row16_col2\" class=\"data row16 col2\" >csr.shesha@manipal.edu</td>\n",
              "            </tr>\n",
              "            <tr>\n",
              "                        <th id=\"T_b6e47c54_30b7_11eb_84e4_0242ac1c0002level0_row17\" class=\"row_heading level0 row17\" >17</th>\n",
              "                        <td id=\"T_b6e47c54_30b7_11eb_84e4_0242ac1c0002row17_col0\" class=\"data row17 col0\" >Ravikala Kamath</td>\n",
              "                        <td id=\"T_b6e47c54_30b7_11eb_84e4_0242ac1c0002row17_col1\" class=\"data row17 col1\" >Assistant Professor - Senior Scale</td>\n",
              "                        <td id=\"T_b6e47c54_30b7_11eb_84e4_0242ac1c0002row17_col2\" class=\"data row17 col2\" >ravikala.kamath@manipal.edu</td>\n",
              "            </tr>\n",
              "            <tr>\n",
              "                        <th id=\"T_b6e47c54_30b7_11eb_84e4_0242ac1c0002level0_row18\" class=\"row_heading level0 row18\" >18</th>\n",
              "                        <td id=\"T_b6e47c54_30b7_11eb_84e4_0242ac1c0002row18_col0\" class=\"data row18 col0\" >Ravindra BV</td>\n",
              "                        <td id=\"T_b6e47c54_30b7_11eb_84e4_0242ac1c0002row18_col1\" class=\"data row18 col1\" >Assistant Professor – Selection Grade</td>\n",
              "                        <td id=\"T_b6e47c54_30b7_11eb_84e4_0242ac1c0002row18_col2\" class=\"data row18 col2\" >ravindra.bv@manipal.edu</td>\n",
              "            </tr>\n",
              "            <tr>\n",
              "                        <th id=\"T_b6e47c54_30b7_11eb_84e4_0242ac1c0002level0_row19\" class=\"row_heading level0 row19\" >19</th>\n",
              "                        <td id=\"T_b6e47c54_30b7_11eb_84e4_0242ac1c0002row19_col0\" class=\"data row19 col0\" >Samarendranath Bhattacharya</td>\n",
              "                        <td id=\"T_b6e47c54_30b7_11eb_84e4_0242ac1c0002row19_col1\" class=\"data row19 col1\" >Assistant Professor - Senior Scale</td>\n",
              "                        <td id=\"T_b6e47c54_30b7_11eb_84e4_0242ac1c0002row19_col2\" class=\"data row19 col2\" >samar.bhat@manipal.edu</td>\n",
              "            </tr>\n",
              "            <tr>\n",
              "                        <th id=\"T_b6e47c54_30b7_11eb_84e4_0242ac1c0002level0_row20\" class=\"row_heading level0 row20\" >20</th>\n",
              "                        <td id=\"T_b6e47c54_30b7_11eb_84e4_0242ac1c0002row20_col0\" class=\"data row20 col0\" >Sathyendranath Malli</td>\n",
              "                        <td id=\"T_b6e47c54_30b7_11eb_84e4_0242ac1c0002row20_col1\" class=\"data row20 col1\" >Assistant Professor - Selection Grade</td>\n",
              "                        <td id=\"T_b6e47c54_30b7_11eb_84e4_0242ac1c0002row20_col2\" class=\"data row20 col2\" >sathya.malli@manipal.edu</td>\n",
              "            </tr>\n",
              "            <tr>\n",
              "                        <th id=\"T_b6e47c54_30b7_11eb_84e4_0242ac1c0002level0_row21\" class=\"row_heading level0 row21\" >21</th>\n",
              "                        <td id=\"T_b6e47c54_30b7_11eb_84e4_0242ac1c0002row21_col0\" class=\"data row21 col0\" >Satyanarayan Shenoy</td>\n",
              "                        <td id=\"T_b6e47c54_30b7_11eb_84e4_0242ac1c0002row21_col1\" class=\"data row21 col1\" >Assistant Professor - Senior Scale</td>\n",
              "                        <td id=\"T_b6e47c54_30b7_11eb_84e4_0242ac1c0002row21_col2\" class=\"data row21 col2\" >satyanarayan.shenoy@manipal.edu</td>\n",
              "            </tr>\n",
              "            <tr>\n",
              "                        <th id=\"T_b6e47c54_30b7_11eb_84e4_0242ac1c0002level0_row22\" class=\"row_heading level0 row22\" >22</th>\n",
              "                        <td id=\"T_b6e47c54_30b7_11eb_84e4_0242ac1c0002row22_col0\" class=\"data row22 col0\" >Shridhar Nayak</td>\n",
              "                        <td id=\"T_b6e47c54_30b7_11eb_84e4_0242ac1c0002row22_col1\" class=\"data row22 col1\" >Assistant Professor - Selection Grade</td>\n",
              "                        <td id=\"T_b6e47c54_30b7_11eb_84e4_0242ac1c0002row22_col2\" class=\"data row22 col2\" >shridhar.n@manipal.edu</td>\n",
              "            </tr>\n",
              "            <tr>\n",
              "                        <th id=\"T_b6e47c54_30b7_11eb_84e4_0242ac1c0002level0_row23\" class=\"row_heading level0 row23\" >23</th>\n",
              "                        <td id=\"T_b6e47c54_30b7_11eb_84e4_0242ac1c0002row23_col0\" class=\"data row23 col0\" >Sreepathy H V</td>\n",
              "                        <td id=\"T_b6e47c54_30b7_11eb_84e4_0242ac1c0002row23_col1\" class=\"data row23 col1\" >Assistant Professor- Senior Scale</td>\n",
              "                        <td id=\"T_b6e47c54_30b7_11eb_84e4_0242ac1c0002row23_col2\" class=\"data row23 col2\" >sreepathy.hv@manipal.edu</td>\n",
              "            </tr>\n",
              "            <tr>\n",
              "                        <th id=\"T_b6e47c54_30b7_11eb_84e4_0242ac1c0002level0_row24\" class=\"row_heading level0 row24\" >24</th>\n",
              "                        <td id=\"T_b6e47c54_30b7_11eb_84e4_0242ac1c0002row24_col0\" class=\"data row24 col0\" >Mr. Sudarsan N S Acharya</td>\n",
              "                        <td id=\"T_b6e47c54_30b7_11eb_84e4_0242ac1c0002row24_col1\" class=\"data row24 col1\" >AssistantProfessor</td>\n",
              "                        <td id=\"T_b6e47c54_30b7_11eb_84e4_0242ac1c0002row24_col2\" class=\"data row24 col2\" >sudarsan.acharya@manipal.edu</td>\n",
              "            </tr>\n",
              "            <tr>\n",
              "                        <th id=\"T_b6e47c54_30b7_11eb_84e4_0242ac1c0002level0_row25\" class=\"row_heading level0 row25\" >25</th>\n",
              "                        <td id=\"T_b6e47c54_30b7_11eb_84e4_0242ac1c0002row25_col0\" class=\"data row25 col0\" >Sudhakara Upadya P</td>\n",
              "                        <td id=\"T_b6e47c54_30b7_11eb_84e4_0242ac1c0002row25_col1\" class=\"data row25 col1\" >Assistant Professor - Selection Grade </td>\n",
              "                        <td id=\"T_b6e47c54_30b7_11eb_84e4_0242ac1c0002row25_col2\" class=\"data row25 col2\" >sudhakara.upadya@manipal.edu</td>\n",
              "            </tr>\n",
              "    </tbody></table>"
            ],
            "text/plain": [
              "<pandas.io.formats.style.Styler at 0x7f0d7de77c18>"
            ]
          },
          "metadata": {
            "tags": []
          },
          "execution_count": 42
        }
      ]
    },
    {
      "cell_type": "code",
      "metadata": {
        "id": "NYUKtLq70Y9-"
      },
      "source": [
        "#Writing Dataframe contents into CSV file.\n",
        "df.to_csv(\"details1.csv\") "
      ],
      "execution_count": 36,
      "outputs": []
    },
    {
      "cell_type": "code",
      "metadata": {
        "id": "KOhcNRh10Y9-"
      },
      "source": [
        ""
      ],
      "execution_count": null,
      "outputs": []
    }
  ]
}